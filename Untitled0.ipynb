{
  "nbformat": 4,
  "nbformat_minor": 0,
  "metadata": {
    "colab": {
      "name": "Untitled0.ipynb",
      "provenance": [],
      "authorship_tag": "ABX9TyMbQE6FMDL94pHD0S4VeRjc",
      "include_colab_link": true
    },
    "kernelspec": {
      "name": "python3",
      "display_name": "Python 3"
    },
    "language_info": {
      "name": "python"
    }
  },
  "cells": [
    {
      "cell_type": "markdown",
      "metadata": {
        "id": "view-in-github",
        "colab_type": "text"
      },
      "source": [
        "<a href=\"https://colab.research.google.com/github/qodrathashemi/project-milecular-dynamics-/blob/main/Untitled0.ipynb\" target=\"_parent\"><img src=\"https://colab.research.google.com/assets/colab-badge.svg\" alt=\"Open In Colab\"/></a>"
      ]
    },
    {
      "cell_type": "markdown",
      "source": [
        "# **Setup** \n",
        "After receiving the IP adress (130.92.106.218) of the remote desktop, we were able to access and work on the remote desktop. \n",
        "Then we checked whether we have to download any program to processing the task. fortunately, all softwares were installed on the remote desktop (Chemzilla). \n",
        "# **Tutorial** **1** \n",
        "Once successfully connected to Cehemzilla, we started the first tutorial. \n",
        "Create a separate directory for your protein simulation\n",
        "Download the protein model(via a online data bank), in the directory. Under the form of plain text.\n",
        "using the consol go to your directory, where the file of the proteine is.\n",
        "If not alredy done suppresse water from your file using the follwing command:\n",
        "\n",
        "\"grep -v HOH file_name_of_protein.pdb > file_name_clean.pdb\"\n",
        "\n",
        "convert your plain file in the gromacs's files using the command: \n",
        "\n",
        "\"gmx pdb2gmx -f file_name_clean.pdb -o gmx_file_name.gro -water spce\"\n",
        "\n",
        "in the execution, different force field will be proposed, generally the OPS-AA/L is used.\n",
        "You nned to create the unit-cell containg your protein. In order to do so, use the command: \n",
        "\n",
        "\"gmx editconf -f file_name.gro -o name_of_box.gro -c -d 1.0 -bt cubic\"\n",
        "\n",
        "Then solvent can be add to our unit-cell (in this case we used water) by using ht command: \n",
        "\n",
        "\"gmx solvate -cp name_of_box.gro -cs spce216 .gro -o name_solve.gro -p topol.top\"\n",
        "\n",
        "Then download the template for the ions profile (ions.mdp) under http://www.mdtutorials.com/gmx/lysozyme/Files/ions.mdp by using nano. Use nano to create the new file directly in the correct directory.\n",
        "Incorporate the ions using: \n",
        "\n",
        "\"gmx grompp -f ions.mdp -c name_solve.gro -p topol.top -o ions.tpr\"\n",
        "Then assemble our protein using the command: \n",
        "\n",
        "\n",
        "\"gmx genoin -s ions.tpr -o name_solve_ions.gro -p topol.top -pname NA nnmae CL -neutral\"\n",
        "\n",
        "Take care to study the charge of the protein to know if positive OR negativ charge are needed. \n",
        "Our protein to energetic and we need to relax it, by using a special, which can be download under XXX. Use nano to incroporate it to your file.\n",
        "Assemble to whole usong the command: \n",
        "\n",
        "\"gmx grompp -f minim.mdp -c name_solve_ions.gro -p topol.top -o em.tpr\"\n",
        "\n",
        "Now run the enrgy minimilization: \n",
        "\n",
        "\"gmx mdrun -v -deffnm em\"\n",
        "\n",
        "The equilibrationof our protein is needed. We dowload the new mdp file under XXX. Use nano to write in the directory\n",
        "Use the command: \n",
        "\n",
        "\"gmx grompp  -f mvt.mdp -c em.gr -r em.gro -p topol.top -o mvt.tpr\"\n",
        "\n",
        "Then: gmx mdrun -deffnm mvt\n",
        "Download the next mdb file under XXX and use nano to include in to directory.\n",
        "\n",
        "\"gmx grompp -f mpt.mdp -c mvt.gro -r mvt.gro -t mvt.cpt -p topol.top -o mpt.tpr\"\n",
        "Run: \"gmx mdrun -defnm mpt\"\n",
        "\n",
        "Download the 1 nano second frame for our simulation under XXX. Use nano to put it in the correct directory.\n",
        "Then run: \n",
        "\n",
        "\"gmx grompp -f md.mdp -c mpt.gro -t mpt.cpt -p topol.top -o md_0_1.tpr\"\n",
        "\n",
        "Run \"mdrun -deffnm md_0_1\"\n",
        "\n",
        "# **Ubelic** **1**\n",
        "in order to conact with the cluster, we requisted the access via registration for account. Then with the given access we made a home directory on Ubelix and wrote a \"hello world\" text on cluster. \n",
        "\n",
        "# **Ubelix** **2**\n",
        "\n",
        "for this part of task, we got this error:\n",
        "Program:     gmx mdrun, version 2020-MODIFIED\n",
        "Source file: src/gromacs/options/options.cpp (line 179)\n",
        "Function:    void gmx::internal::OptionSectionImpl::finish()\n",
        "\n",
        "Error in user input:\n",
        "Invalid input values\n",
        "  In option s\n",
        "    Required option was not provided, and the default file 'topol' does not\n",
        "    exist or is not accessible.\n",
        "    The following extensions were tried to complete the file name:\n",
        "      .tpr\n",
        "\n",
        "For more information and tips for troubleshooting, please check the GROMACS\n",
        "website at http://www.gromacs.org/Documentation/Errors"
      ],
      "metadata": {
        "id": "9L3P_4fwTQMq"
      }
    }
  ]
}